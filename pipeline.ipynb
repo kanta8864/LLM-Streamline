{
 "cells": [
  {
   "cell_type": "markdown",
   "id": "1769faa2",
   "metadata": {},
   "source": [
    "### Imports"
   ]
  },
  {
   "cell_type": "code",
   "execution_count": null,
   "id": "694b96b9",
   "metadata": {
    "vscode": {
     "languageId": "plaintext"
    }
   },
   "outputs": [],
   "source": [
    "import torch\n",
    "import torch.nn as nn\n",
    "from torch.utils.data import Dataset, DataLoader\n",
    "from datasets import load_dataset, concatenate_datasets, load_from_disk\n",
    "from tqdm import tqdm\n",
    "from itertools import chain\n",
    "import gc\n",
    "import os\n",
    "from dataclasses import dataclass, field\n",
    "from typing import List, Optional, Tuple, Union, Dict\n",
    "\n",
    "from transformers import (\n",
    "    AutoModelForCausalLM,\n",
    "    AutoConfig,\n",
    "    AutoTokenizer,\n",
    "    # HfArgumentParser, # Not strictly needed if setting args directly\n",
    "    # DataCollatorForLanguageModeling, # Not used in provided snippets\n",
    "    TrainingArguments as DefaultTrainingArguments\n",
    ")\n",
    "\n",
    "# This import will be satisfied by the class definition in Cell 4\n",
    "# For a standalone script, FFN.py would need to exist.\n",
    "from FFN import FFN \n",
    "\n",
    "# Imports for functions that would ideally come from LLM_Streamline\n",
    "# Their placeholder definitions will be provided in subsequent cells.\n",
    "# from LLM_Streamline.scheduler import get_cosine_schedule_with_warmup\n",
    "# from LLM_Streamline.get_cosine import get_cosine_similarity\n",
    "# from LLM_Streamline.get_train_data import get_data\n",
    "\n",
    "print(f\"PyTorch version: {torch.__version__}\")\n",
    "print(f\"CUDA available: {torch.cuda.is_available()}\")\n",
    "if torch.cuda.is_available():\n",
    "    print(f\"CUDA version: {torch.version.cuda}\")\n",
    "    print(f\"GPU: {torch.cuda.get_device_name(0)}\")"
   ]
  }
 ],
 "metadata": {
  "language_info": {
   "name": "python"
  }
 },
 "nbformat": 4,
 "nbformat_minor": 5
}
